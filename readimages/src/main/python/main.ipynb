{
 "cells": [
  {
   "cell_type": "markdown",
   "metadata": {},
   "source": [
    "# Reading images with OpenCV using Dataiku"
   ]
  },
  {
   "cell_type": "code",
   "execution_count": null,
   "metadata": {},
   "outputs": [],
   "source": [
    "%pylab"
   ]
  },
  {
   "cell_type": "code",
   "execution_count": null,
   "metadata": {},
   "outputs": [],
   "source": [
    "import dataiku\n",
    "from dataiku import pandautils as pdu\n",
    "import pandas as pd\n",
    "import numpy as np \n",
    "import cv2\n",
    "import matplotlib.pyplot as plt\n",
    "\n",
    "%matplotlib inline"
   ]
  },
  {
   "cell_type": "code",
   "execution_count": null,
   "metadata": {},
   "outputs": [],
   "source": [
    "# Load a Dataiku Folder\n",
    "dds = dataiku.Folder(\"ImagesTest\")"
   ]
  },
  {
   "cell_type": "code",
   "execution_count": null,
   "metadata": {},
   "outputs": [],
   "source": [
    "# Listing all images from the Dataiku Folder and showing part of the images\n",
    "i = 321\n",
    "for im_path in [item[\"fullPath\"] for item in dss.get_path_details()[\"children\"]]:\n",
    "    print(im_path)\n",
    "    with dss.get_download_stream(path=im_path) as stream:\n",
    "        np_arr = np.fromstring(stream.read(), np.uint8)\n",
    "        img = cv2.imdecode(np_arr, cv2.IMREAD_COLOR)\n",
    "        img = cv2.cvtColor(img, cv2.COLOR_BGR2RGB)\n",
    "        plt.subplot(i), plt.imshow(img, cmap='gray')\n",
    "        i = i + 1\n",
    "        stream.close()\n",
    "        if i == 327:\n",
    "            break\n",
    "\n",
    "plt.show()"
   ]
  }
 ],
 "metadata": {
  "language_info": {
   "name": "plaintext"
  },
  "orig_nbformat": 4
 },
 "nbformat": 4,
 "nbformat_minor": 2
}
